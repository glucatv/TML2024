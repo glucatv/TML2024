{
 "cells": [
  {
   "cell_type": "markdown",
   "id": "8742b328",
   "metadata": {},
   "source": [
    "# Perceptron\n",
    "\n",
    "L'algoritmo **perceptron** prende in input un training set $D$ composto da $n$ esempi $x^{(1)},...,x^{(n)}$ ciascuno in $R^d$ con relative classi $y^{(1)},...,y^{(n)}$ ciascuno in $\\{-1, +1\\}$; l'algorirmo ritorna, se esiste, un iperpiano che separe le istanze positive da quelle negative. Quindi l'algorimo ritorna (o addestra) un classificatore binario usando $D$. Il parametro $t$ è il numero massimo di iterazioni consentite.\n",
    "\n",
    "![perceptron](./perceptron.png)\n",
    "\n",
    "- i parametri $a$ e $a_0$ vengono aggiornati se $x^{(i)}$ non viene classificato correttamente.\n",
    "- l'aggiornamento è definito in modo che $x^{(i)}$ sia \"classificato meglio\"\n",
    "- se un piano separatore esiste, questo viene trovato (se $t$ è grande a sufficienza)"
   ]
  },
  {
   "cell_type": "markdown",
   "id": "9def1f5f-4061-4e48-97c5-5f1dac59f575",
   "metadata": {},
   "source": [
    "## Implementazione\n",
    "\n",
    "La funzione prende in input:\n",
    "\n",
    "- `X`, un vettore (`ndarray`) di `d` righe e e `n` colonne, una colonna per punto.\n",
    "- `y`, il vettore delle `n` etichette\n",
    "- `t`, il numero massimo di iterazioni che eseguirà l'algoritmo"
   ]
  },
  {
   "cell_type": "code",
   "execution_count": 2,
   "id": "eef42706",
   "metadata": {},
   "outputs": [],
   "source": [
    "import numpy as np\n",
    "\n",
    "def perceptron( X, y, t ):\n",
    "    '''\n",
    "    Parameters\n",
    "    ----------\n",
    "    X : vettore (ndarray) d x n dove d è lo spazio delle features, n numero degli esempi\n",
    "    y : vettore delle etichette, di dimensione n\n",
    "    t : intero positivo, numero massimo di iterazioni\n",
    "\n",
    "    Returns\n",
    "    -------\n",
    "    a : vettore dei cefficienti dell'iperpiano di dimensione d\n",
    "    a0: termine noto\n",
    "    '''\n",
    "    \n",
    "    d, n = X.shape  # ritorna il numero di righe e colonne di X\n",
    "    \n",
    "    a = np.zeros( (d, 1) ) # array colonna di d zeri\n",
    "    a0 = 0\n",
    "    \n",
    "    for j in range(t):\n",
    "        finito = True\n",
    "        for i in range(n):\n",
    "            x = X[:,i:i+1] # colonna i di X ottenuta con slicing\n",
    "            if y[i]*(a.T.dot(x) + a0) <= 0:\n",
    "                a = a + x*y[i]\n",
    "                a0 = a0 + y[i]\n",
    "                finito = False\n",
    "        if finito: # equivalente a finito == True\n",
    "            break\n",
    "                \n",
    "    return a, a0"
   ]
  },
  {
   "cell_type": "markdown",
   "id": "7e653080",
   "metadata": {},
   "source": [
    "## Esempio nello spazio delle features bi-dimensionale\n",
    "\n",
    "Iniziamo col definire `X` come una lista di punti nello spazio Euclidea di dimensione 2.\n",
    "\n",
    "```python\n",
    "np.array(X)\n",
    "```\n",
    "\n",
    "converte la lista `X` in un `ndarray` di `n` righe e `2` colonne. Il vettore risultante viene trasposto con l'operatore `.T`.\n",
    "\n",
    "Il vettore delle features viene definito in modo analogo."
   ]
  },
  {
   "cell_type": "code",
   "execution_count": 11,
   "id": "111d65f8-2efd-4f20-82b2-e54c10c338f3",
   "metadata": {},
   "outputs": [
    {
     "name": "stdout",
     "output_type": "stream",
     "text": [
      "[[ 0.5]\n",
      " [-2. ]] 0\n"
     ]
    }
   ],
   "source": [
    "X = [  [1, -1 ], [0.5, 1], [-.6, -.7], [-.8, 0.5]  ]\n",
    "X = np.array(X).T\n",
    "y = np.array([1, -1, 1, -1])\n",
    "\n",
    "a, a0 = perceptron(X, y, 100)\n",
    "\n",
    "print(a, a0)"
   ]
  },
  {
   "cell_type": "code",
   "execution_count": 13,
   "id": "7059aec9-cb43-4029-b48d-5afe197c1811",
   "metadata": {},
   "outputs": [],
   "source": [
    "import matplotlib.pyplot as plt\n",
    "\n",
    "def plot_separation(X, y, a, a0, name=None):\n",
    "    '''\n",
    "    Input: X vettore 2xn dove la colonna j rappresenta il punto j nello spazio delle features\n",
    "        y: vettore di dimensione n, y[j] è l'etichetta di X[:,j:j+1] (colonna j di X)\n",
    "        a: vettore 2x1\n",
    "        a0: float, rappresentano i coefficienti del piano di separazione\n",
    "    Output: None, crea un file png che mostra lo spazio delle features e il piano di separazione\n",
    "    '''\n",
    "    plt.scatter(X[0:1,:], X[1:2,:], c=['g' if lab == 1 else 'r' for lab in y], s=7)\n",
    "     \n",
    "    ax = plt.gca()\n",
    "    \n",
    "    # piano di separazione\n",
    "    xlim_left, xlim_right = ax.get_xlim()\n",
    "    ylim_bottom, ylim_top = ax.get_ylim()\n",
    "    \n",
    "    plt.plot( ( xlim_left, xlim_right) , [ (-x*a[0][0]-a0)/a[1][0] for x in  (xlim_left, xlim_right) ],\\\n",
    "             linewidth=1,\n",
    "             c = 'b', zorder=0 ) # a0 è una matrice di dimensione 1x1\n",
    "     \n",
    "    arrow_size = 0.05\n",
    "   \n",
    "    # assi \n",
    "    plt.arrow( xlim_left, 0, xlim_right-xlim_left, 0,   width=0.01,\\\n",
    "              head_width= arrow_size, length_includes_head=True,\\\n",
    "              color='lightgrey', zorder=-1)\n",
    "    plt.arrow( 0, ylim_bottom, 0, ylim_top-ylim_bottom,   width=0.01,\\\n",
    "              head_width= arrow_size, length_includes_head=True,\\\n",
    "              color='lightgrey', zorder=-1)    \n",
    "\n",
    "\n",
    "    # plot del vettore perpendicolare al piano\n",
    "    \n",
    "    # punto centrale del piano\n",
    "    mx = (xlim_left+xlim_right)/2\n",
    "    my = (-mx*a[0][0]-a0)/a[1][0]\n",
    "\n",
    "    \n",
    "    \n",
    "    u = a/np.linalg.norm(a) # vettore unitario ortogonale ad a\n",
    "    \n",
    "    # spostiamo l'origine del vettore a sul punto (mx, my) \n",
    "    plt.arrow(mx, my, u[0][0], u[1][0], width=0.01,\\\n",
    "              head_width= arrow_size, length_includes_head=True,\\\n",
    "              color='orange', zorder=0)\n",
    "    \n",
    "        \n",
    "    \n",
    "    ax.set_aspect('equal', adjustable='box')\n",
    "    \n",
    "    ax.set_xbound(xlim_left, xlim_right)\n",
    "    ax.set_ybound(ylim_bottom, ylim_top)\n",
    "    \n",
    "    if name != None:\n",
    "        plt.savefig(name, dpi=600)\n",
    "\n",
    "    plt.show()\n",
    "    "
   ]
  },
  {
   "cell_type": "code",
   "execution_count": 14,
   "id": "944fe81b",
   "metadata": {},
   "outputs": [
    {
     "data": {
      "image/png": "[encoded data removed]",
      "text/plain": [
       "<Figure size 640x480 with 1 Axes>"
      ]
     },
     "metadata": {},
     "output_type": "display_data"
    }
   ],
   "source": [
    "a, a0 = perceptron(X, y, 100)\n",
    "plot_separation(X, y, a, a0)"
   ]
  }
 ],
 "metadata": {
  "kernelspec": {
   "display_name": "Python 3 (ipykernel)",
   "language": "python",
   "name": "python3"
  },
  "language_info": {
   "codemirror_mode": {
    "name": "ipython",
    "version": 3
   },
   "file_extension": ".py",
   "mimetype": "text/x-python",
   "name": "python",
   "nbconvert_exporter": "python",
   "pygments_lexer": "ipython3",
   "version": "3.10.12"
  }
 },
 "nbformat": 4,
 "nbformat_minor": 5
}
