{
 "cells": [
  {
   "cell_type": "markdown",
   "id": "81eb16ba",
   "metadata": {},
   "source": [
    "# Machine Learning\n",
    "\n",
    "> \"Campo di studio che dà ai computer la capacità di apprendere senza essere esplicitamente programmati\" (Arthur Samuel)\n",
    "\n",
    "Programmi che sono in grado di riconoscere schemi dai dati forniti e, in base a questi, prendeno decisioni o compiono previsioni. I punti sul grafico in basso sono colorati in giallo se il tempo è soleggiato e in blu se è piovoso, la posizione del punto dipende dalla temperatura e la velocià del vento. \n",
    "\n",
    "![pioggia_temp_vvento.png](./01-pioggia_temp_vvento.png)\n",
    "\n",
    "\n",
    "- Acquisizione ed osservazione dei *dati di addestramento* \n",
    "- Creazione del modello che potrebbe aver generato quei dati\n",
    "- Utilizzo del modello per formulare previsioni su altri esempi\n",
    "\n",
    "\n",
    "Il **modello** è una generalizzazione degli esempi forniti. Gli approcci al problema comprendono\n",
    "\n",
    "- La rappresentazione del modello\n",
    "- Una funzione obiettivo che valuta la bontà del modello\n",
    "- Un metodo che apprenda un modello massimizzando/minimizzando la funzione obiettivo\n",
    "\n",
    "Nell'esempio il modello è un iperpiano che separa i dati positivi da quelli negativi. La funzione obiettivo potrebbe essere la percentuale di dati classificati correttamente. L'algoritmo trova l'iperpiano che massimizza la funzione obiettivo."
   ]
  },
  {
   "cell_type": "markdown",
   "id": "8a2e2585",
   "metadata": {},
   "source": [
    "## Classi di problemi\n",
    "\n",
    "### Classificazione\n",
    "\n",
    "I dati di addestramento sono coppie $(x_1, y_0), \\ldots, (x_n, y_n)$ dove $x_i$ rappresentano delle caratteristiche degli elementi classificati e $y_i$ la classe (un intero) a cui appartengono. Gli $x_i$ sono vettori in uno spazio $d$-dimensionale (spazio delle *features*). L'esempio precedente mostra un problema di classificazione: lo spazio delle features ha dimensione $2$ (temperatura e vento) e $y_i \\in \\{0, 1\\}$. \n",
    "\n",
    "### Regressione\n",
    "\n",
    "Un esempio di problema di regressione: partendo da un insieme di misurazioni della temperatura a quote diverse, è possibile inferire una regola che data una qualsiasi quota fornisca la temperatura a quella quota?\n",
    "\n",
    "![quotatemp.png](./02-quotatemp.png)\n",
    "\n",
    "Dall'esempio si capisce che la retta rossa è una buona scelta.\n",
    "\n",
    "Possiamo definire i problemi di classificazione come problemi di regressione in cui $y_i \\in R$. \n",
    "\n",
    "### Clusterizzazione\n",
    "\n",
    "Dato un insieme di esempio $x_1, x_2\\ldots, x_n$ nello spazio $R^d$, trovare un partizionamento (o claster) in insiemi di esempi 'simili'. Il modo in cui valutare la qualità della partizione dipende dall'applicazione. Ad esempio si può minimizzare la distanza media tra gli elementi in un cluster."
   ]
  },
  {
   "cell_type": "markdown",
   "id": "e2c01417",
   "metadata": {},
   "source": [
    "## Criteri di valutazione e *loss function*\n",
    "\n",
    "$L(g, c)$ indica quanto si è  penalizzati se l'ipotesi ritornata è $g$ ma la risposta corretta è $c$. Tipiche loss-function\n",
    "\n",
    "- Binaria\n",
    "    $$\n",
    "    L(g,c) = \\left\\{\n",
    "    \\begin{array}{lll}\n",
    "    0& &\\mbox{if}\\ c \\equiv g\\\\\n",
    "    1& &\\mbox{otherwise}\n",
    "    \\end{array}\n",
    "    \\right.\n",
    "    $$\n",
    "- Lineare\n",
    "    $$L(g,c) = |g-c|$$\n",
    "- Quadratica\n",
    "    $$L(g,c) = (g-c)^2$$\n",
    "    \n",
    "La valutazione di un algoritmo richiederà la sintesi delle loss di un insieme di previoni che può essere ottenuta\n",
    "\n",
    "- calcolando la media delle loss su un insieme di esperimenti\n",
    "- calcolando il caso peggiore\n",
    "- ...\n",
    "\n",
    "l'algoritmo dovrà ritornare un modello che minimizzi una delle precedenti valutazioni."
   ]
  },
  {
   "cell_type": "markdown",
   "id": "05d31766-ec9e-46e1-87b1-809791bb1165",
   "metadata": {},
   "source": [
    "## La scelta del modello e suo adattamento (*fitting*)\n",
    "\n",
    "Sia $(x^{(1)}, y^{(1)}),\\ldots,(x^{(n)}, y^{(n)})$ una sequenza di dati osservati dove ogni $x^{(i)}$ è un array a $d$ dimensioni, una per ciascuna caratteristica osservata e $y^{(i)}$ è il risultato corrispondente.\n",
    "\n",
    "Si vuole definire un modello che possa prevedere il risultato per un dato non osservato $x^{(n+1)}$.\n",
    "\n",
    "Si parte da ipotizzare un modello $h(x; a)$, ovvero una funzione delle osservazioni $x$ che dipende dai parametri $a$, usando $x^{(1)},\\ldots,x^{(n)}$ si vogliono trovare i valori dei parametri $a$ che meglio si adattano ai dati osservati.\n",
    "\n",
    "Ottenuto $a$, si può prevedere il valore per $x^{(n+1)}$ usando $h(x^{(n+1}; a)$.\n",
    "\n",
    "I parametri $a$ del modello si ottengono minimizzando una funzione in $a$ e che utilizza $x^{(1)},\\ldots,x^{(n)}$. Questa potrebbe essere la media delle loss ovvero il *training error*\n",
    "\n",
    "$$Err(a) = \\frac{1}{n}\\sum_{i=1}^{n} L( h(x^{(i)}; a), y^{(i)} ) $$"
   ]
  },
  {
   "cell_type": "markdown",
   "id": "5b7defbe",
   "metadata": {},
   "source": [
    "## Classe di modelli\n",
    "\n",
    "Si tratta dell'insieme dei possibili modelli che dipendono da un insieme di parametri $a$ che devono essere determinati nel processo di *fitting*.\n",
    "\n",
    "Nell'esempio del problema di regressione la classe di modelli è composto dagli iperpiani $a^T x + a_0 = 0$.\n",
    "\n",
    "Il *model selection problem* si risolvecercando il modello migliore tra un insieme. Questo si sceglie dopo aver adattato (*model fitting*) il modello ai dati e testato."
   ]
  },
  {
   "cell_type": "markdown",
   "id": "e776ff42",
   "metadata": {},
   "source": [
    "## Algoritmi\n",
    "\n",
    "Come trovare un buon modello dalla classe di modelli selezionata."
   ]
  },
  {
   "cell_type": "markdown",
   "id": "039046b2",
   "metadata": {},
   "source": [
    "# Classificazione\n",
    "\n",
    "Un classificatore binario è una funzione $h:R^d \\rightarrow \\{-1, 1\\}$. ($h$ per hypotesis). Il vettore in input è una codifica di features che descrivono l'oggetto da classificare.\n",
    "\n",
    "Nell'apprendimento supervisionato si utilizza un insieme\n",
    "$$\n",
    "D = (x^{(1)}, y^{(1)}), \\ldots, (x^{(n+n')}, y^{(n+n')})\n",
    "$$\n",
    "dove $x^{(i)} \\in R^d$ (un vettore colonna con $d$ righe) e $y^{(i)} \\in \\{0,1\\}$ e $y^{(i)}$ rappresenta la corretta classificazione di $x^{(i)}$ (ipotesi di apprendimento).\n",
    "\n",
    "Il classificatore viene costruito minimizzando il *training error*\n",
    "$$\n",
    "Err(h) = \\frac{1}{n}\\sum_{i=1}^{n} L( h(x^{(i)}), y^{(i)} )\n",
    "$$\n",
    "dove\n",
    "$$\n",
    "    L( h(x^{(i)}), y^{(i)} ) = \\left\\{\n",
    "    \\begin{array}{lll}\n",
    "    1& &\\mbox{if}\\ h(x^{(i)})\\equiv y^{(i)}\\\\\n",
    "    0& &\\mbox{otherwise}\n",
    "    \\end{array}\n",
    "    \\right.\n",
    "$$\n",
    "e viene testato su un *test set*, istanze non utilizzate in precedenza\n",
    "$$\n",
    "Err(h) = \\frac{1}{n'}\\sum_{i=n+1}^{n+n'} L( h(x^{(i)}), y^{(i)} )\n",
    "$$"
   ]
  },
  {
   "cell_type": "markdown",
   "id": "bf2318ad",
   "metadata": {},
   "source": [
    "## Algoritmo di apprendimento\n",
    "\n",
    "Si identifica una classe $H$ di possibili classificatori. L'algoritmo prende in input $D$ e ritorna $h \\in H$."
   ]
  },
  {
   "cell_type": "markdown",
   "id": "130c4fdd",
   "metadata": {},
   "source": [
    "## Classificatori lineari\n",
    "\n",
    "Sono identificati dala classe $H$ di funzioni lineari in $R^d$. Queste sono definite come $a_1 x_1 + a_2 x_2 + \\ldots a_d x_d + a_0 = 0$. Quindi se $a = (a_1,\\ldots, a_n)$, un classificatore lineare è identificato da $(a, a_0)$ dove $a \\in R^d$. Funziona in questo modo\n",
    "$$\n",
    "h(x; a, a_0) = sign(a^Tx+a_0) = \\left\\{\n",
    "\\begin{array}{lll}\n",
    "+1 & & \\mbox{se}\\ a^Tx+a_0 > 0 \\\\\n",
    "-1 & & \\mbox{altrimenti}\n",
    "\\end{array}\n",
    "\\right.\n",
    "$$\n",
    "\n",
    "$(a, a_0)$ è un iperpiano in $R^d$ che separa istanze positiva da istanze negative.\n",
    "\n",
    "![image](./03-classificatore_lineare.png)"
   ]
  },
  {
   "cell_type": "markdown",
   "id": "28b6e253",
   "metadata": {},
   "source": [
    "# Iperpiano\n",
    "\n",
    "$$a_1 x_1 + a_2 x_2 + \\ldots a_d x_d + a_0 = 0$$\n",
    "\n",
    "Se $a = (a_1,\\ldots,a_d)$ e $x = (x_1,\\ldots,x_d)$, due vettori colonna $d\\times 1$, allora l'iperpiano può essere indicato come $a^T x +a_0 = 0$ (prodotto scalare) oppure come $a \\cdot x + a_0$.\n",
    "\n",
    "Il *lato positivo* di un iperpiano è $$\\{  x\\in R^d \\quad |\\quad a^T x + a_0 > 0 \\}$$\n",
    "\n",
    "Se chiamiamo $\\beta$ l'algolo tra due vettori `v` e `u` allora\n",
    "\n",
    "$$u\\cdot v = ||u||\\ ||v|| \\cos \\beta$$\n",
    "\n",
    "dove  $|| u || = \\sqrt{u_1^2 +\\ldots + u_d^2}$ è la *norma* di $u$.\n",
    "\n",
    "![proiezioni.png](./04-proiezioni.png)\n",
    "\n",
    "Sia $H$ l'iperpiano $a_1 x_1 + a_2 x_2 + \\ldots a_d x_d + a_0 = 0$, il vettore $a = (a_1,\\ldots,a_d)$ è ortogonale ad $H$ perché è ortogonale a  $a_1 x_1 + a_2 x_2 + \\ldots a_d x_d = 0$ (parallelo ad $H$).\n",
    "\n",
    "\n",
    "Dati due vettori $u$ e $v$, la *proiezione* di $u$ su $v$ è:\n",
    "\n",
    "$$\n",
    "\\frac{u\\cdot v}{||v||} = \\frac{||u||\\ ||v|| \\cos \\beta}{||v||} = ||u|| \\cos \\beta\n",
    "$$ "
   ]
  }
 ],
 "metadata": {
  "kernelspec": {
   "display_name": "Python 3 (ipykernel)",
   "language": "python",
   "name": "python3"
  },
  "language_info": {
   "codemirror_mode": {
    "name": "ipython",
    "version": 3
   },
   "file_extension": ".py",
   "mimetype": "text/x-python",
   "name": "python",
   "nbconvert_exporter": "python",
   "pygments_lexer": "ipython3",
   "version": "3.11.5"
  }
 },
 "nbformat": 4,
 "nbformat_minor": 5
}
