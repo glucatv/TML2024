{
 "cells": [
  {
   "cell_type": "markdown",
   "id": "b24d33ab",
   "metadata": {},
   "source": [
    "    \n",
    "## Distanza di un punto da un iperpiano\n",
    "\n",
    "Sia `H` l'iperpiano con coefficienti $a$ e $a_0$ e $p$ un punto.\n",
    "\n",
    "![dist_piano_punto.png](./dist_piano_punto.png)\n",
    "\n",
    "Il seguente codice calcola la distanza tra l'iperiano descritto da `a`, `a0` (`a` è il vettore dei coefficienti ed `a0` è il termine noto) ed il punto `p`. Siamo nel piano euclideo a 2 dimensioni. "
   ]
  },
  {
   "cell_type": "code",
   "execution_count": 1,
   "id": "1e3b77c9",
   "metadata": {},
   "outputs": [
    {
     "name": "stdout",
     "output_type": "stream",
     "text": [
      "5.8\n"
     ]
    }
   ],
   "source": [
    "a = [ 3, 4 ]   # vettore dei coefficienti codificato da una lista\n",
    "a0 = 3         # termine noto\n",
    "p = [ 2, 5 ]   # vettore che rappresenta il punto p, codificato con una lista\n",
    "dim = len(a)\n",
    "\n",
    "# dist = (a*p + a0)/ ||a||\n",
    "\n",
    "ps = 0   # sarà il prodotto scalare tra a e p\n",
    "for i in range(dim):\n",
    "    ps += a[i]*p[i] # ps = ps + a[i]*p[i]\n",
    "    \n",
    "nor = 0  # sarà la norma di a\n",
    "for i in range(dim):\n",
    "    nor += a[i]**2   # **2 al quadrato\n",
    "nor = nor**0.5\n",
    "\n",
    "dist = (ps+a0)/nor\n",
    "\n",
    "print(dist)"
   ]
  },
  {
   "cell_type": "markdown",
   "id": "86f7ad7b",
   "metadata": {},
   "source": [
    "### La libreria NumPy\n",
    "\n",
    "NumPy è una libreria Python per il calcolo scientifico che offre supporto per vettori multidimensionali, operazioni di algebra lineare e funzioni matematiche. È ampiamente utilizzato nelle applicazioni scientifiche e di analisi dati per la sua efficienza computazionale e la facilità di utilizzo.\n",
    "\n",
    "Il seguente codice calcola la distanza punto-iperpiano utilizzando la libreria numpy."
   ]
  },
  {
   "cell_type": "code",
   "execution_count": 5,
   "id": "b6db9418",
   "metadata": {},
   "outputs": [
    {
     "name": "stdout",
     "output_type": "stream",
     "text": [
      "5.8\n"
     ]
    }
   ],
   "source": [
    "import numpy as np\n",
    "\n",
    "a = [ 3, 4 ]\n",
    "a0 = 3\n",
    "p = [ 2, 5 ]\n",
    "\n",
    "a = np.array(a) # creiamo due vettori numpy utilizzando a e p\n",
    "p = np.array(p)\n",
    "\n",
    "dist = (a.dot(p)+a0)/(a**2).sum()**0.5\n",
    "\n",
    "print(dist)"
   ]
  },
  {
   "cell_type": "markdown",
   "id": "fdc16d4f",
   "metadata": {},
   "source": [
    "L'istruzione\n",
    "\n",
    "```python\n",
    "a = np.array(a)\n",
    "```\n",
    "\n",
    "crea un nuovo vettore di tipo `ndarray` (definito nella libreria) utilizzando la lista `a`.\n",
    "\n",
    "Con `a.dot(p)` calcoliamo il prodotto scalare tra `a` e `p`. `dot` è un *metodo* definito nella libreria Numpy.\n",
    "\n",
    "`(a**2).sum()**0.5` applica il quadrato ai coefficienti in `a` (`**` elevamento a potenza), sul vettore risultante su applica il metodo `sum` che ritorna la somma di tutti gli elementi nel vettore; infine questo valore viene elevato alla `0.5`.\n",
    "\n",
    "Il precedente codice diventa una funzione in questo modo"
   ]
  },
  {
   "cell_type": "code",
   "execution_count": 8,
   "id": "1f344a28",
   "metadata": {},
   "outputs": [
    {
     "name": "stdout",
     "output_type": "stream",
     "text": [
      "5.8\n",
      "-3.111269837220809\n"
     ]
    }
   ],
   "source": [
    "def signed_dist(a, a0, p):\n",
    "    '''\n",
    "    (docstring)\n",
    "    Parameters\n",
    "    ----------\n",
    "    a : coefficienti dell'iperpiano h\n",
    "    a0 : termine noto di h\n",
    "    p : un punto nello spazio euclideo\n",
    "\n",
    "    Returns\n",
    "    -------\n",
    "    dist : la distanza di p da a*x + a0 = 0\n",
    "    '''\n",
    "    dist = (a.dot(p)+a0)/(a**2).sum()**0.5\n",
    "    return dist\n",
    "\n",
    "\n",
    "print( signed_dist( np.array([3, 4]), 3, np.array([2, 5]) ) )\n",
    "print( signed_dist( np.array([3, 4,-5]), -3, np.array([2, -5, 1]) ) )"
   ]
  },
  {
   "cell_type": "markdown",
   "id": "bc1a6233",
   "metadata": {},
   "source": [
    "La funzione è stata invocata una prima volta usando l'iperpiano $(3,4), 3$ ed il punto $(2,5)$ ed una seconda volta con l'iperpiano $(3,4,-5), -1$ ed il punto $(2,-5,1)$."
   ]
  }
 ],
 "metadata": {
  "kernelspec": {
   "display_name": "Python 3 (ipykernel)",
   "language": "python",
   "name": "python3"
  },
  "language_info": {
   "codemirror_mode": {
    "name": "ipython",
    "version": 3
   },
   "file_extension": ".py",
   "mimetype": "text/x-python",
   "name": "python",
   "nbconvert_exporter": "python",
   "pygments_lexer": "ipython3",
   "version": "3.10.12"
  }
 },
 "nbformat": 4,
 "nbformat_minor": 5
}
