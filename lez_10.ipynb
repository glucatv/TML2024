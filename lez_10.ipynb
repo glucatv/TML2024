{
 "cells": [
  {
   "cell_type": "markdown",
   "id": "4eb981c4-e644-46a8-9dcf-a85b0353c9e2",
   "metadata": {},
   "source": [
    "# Esercitazione 3"
   ]
  },
  {
   "cell_type": "code",
   "execution_count": 2,
   "id": "f4540325-7275-497b-8839-a8115bdbc435",
   "metadata": {},
   "outputs": [],
   "source": [
    "def logistic(z):\n",
    "    return 1/(1+m.e**(-z))\n",
    "\n",
    "def log_loss(X, y, a, a0, eta=0):\n",
    "    ll_sum = 0\n",
    "    for i in range(X.shape[1]):\n",
    "        x = X[:,i:i+1]\n",
    "        guess = logistic(a.T.dot(x)[0][0]+a0)\n",
    "        if guess in (0,1):\n",
    "            print('*********', guess)\n",
    "        ll_sum += y[i]*m.log10(guess) + (1-y[i])*m.log10(1-guess)\n",
    "    return - ll_sum  + eta*(a**2).sum()  # al valore calcolato sommiamo il regolarizzatore\n",
    "\n",
    "def logistic_der(X, y, a, a0, delta=0.001, eta=0.0):\n",
    "    g = np.zeros(a.shape)\n",
    "    for i in range(a.shape[0]):\n",
    "        delta_v = np.zeros(a.shape)\n",
    "        delta_v[i,0] = delta\n",
    "        g[i, 0] = ( log_loss( X, y, a + delta_v, a0, eta) -\\\n",
    "                   log_loss( X, y, a - delta_v, a0, eta) )\\\n",
    "            / (2*delta)\n",
    "    g0 = ( log_loss( X, y, a, a0+delta, eta) -\\\n",
    "          log_loss( X, y, a, a0-delta, eta) ) / (2*delta)\n",
    "    return g, g0\n",
    "\n",
    "def logistic_dg( X, y, step, eps, max_iter, eta=0):\n",
    "    curr_a = np.zeros( (X.shape[0], 1) )\n",
    "    curr_a0 = 0\n",
    "    \n",
    "    for t in range(max_iter):\n",
    "        curr_grad, curr_grad0 = logistic_der(X, y, curr_a, curr_a0, eta=eta)\n",
    "        \n",
    "        next_a  = curr_a - step*curr_grad\n",
    "        next_a0 = curr_a0 - step*curr_grad0\n",
    "        \n",
    "        if abs( log_loss(X, y, next_a, next_a0, eta=eta) -\\\n",
    "               log_loss(X, y, curr_a, curr_a0, eta=eta) ) < eps:\n",
    "            curr_a, curr_a0 = next_a, next_a0\n",
    "            break\n",
    "        \n",
    "        curr_a, curr_a0 = next_a, next_a0\n",
    "    print('iter:', t)\n",
    "    return curr_a, curr_a0"
   ]
  },
  {
   "cell_type": "markdown",
   "id": "ead9e703-d124-41c1-933d-8851018a27d3",
   "metadata": {},
   "source": [
    "## Esercizio 1\n",
    "\n",
    "Tenendo conto che se\n",
    "\n",
    "$$\n",
    "f(z) = y\\ln \\frac{1}{1+e^{-z}} + (1-y)\\ln ( 1 -  \\frac{1}{1+e^{-z}} )\n",
    "$$\n",
    "\n",
    "allora\n",
    "\n",
    "$$\n",
    "f'(z) = y-\\frac{1}{1+e^{-z}}\n",
    "$$\n",
    "\n",
    "Si modifichi la funzione `logistic_der` in modo che utilizzi $f'$ per calcolare il vettore delle derivate parziali al posto del gradiente numerico.\n",
    "\n",
    "\n",
    "## Esercizio 2 (Discesa del gradiente stocastico)\n",
    "\n",
    "Modificare le funzioni sopra riportate in modo da implementare l'algoritmo di discesa del gradiente stocastico\n",
    "\n",
    "## Esercizio 3\n",
    "\n",
    "Si consideri la shapefile di punti definita dal file `punti.shp`, dopo aver importato il file in un GeoDataFrame ed averlo convertito in un più conveniente sistema di riferimento, si implementi una funzione che preso il GeoDataFrame ed un `float` `eps` ritorni il punto del DataFrame nel cui intorno di raggio `eps` ricadono più punti."
   ]
  }
 ],
 "metadata": {
  "kernelspec": {
   "display_name": "Python 3 (ipykernel)",
   "language": "python",
   "name": "python3"
  },
  "language_info": {
   "codemirror_mode": {
    "name": "ipython",
    "version": 3
   },
   "file_extension": ".py",
   "mimetype": "text/x-python",
   "name": "python",
   "nbconvert_exporter": "python",
   "pygments_lexer": "ipython3",
   "version": "3.11.5"
  }
 },
 "nbformat": 4,
 "nbformat_minor": 5
}
