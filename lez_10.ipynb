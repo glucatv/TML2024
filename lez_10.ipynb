{
 "cells": [
  {
   "cell_type": "markdown",
   "id": "4eb981c4-e644-46a8-9dcf-a85b0353c9e2",
   "metadata": {},
   "source": [
    "# Esercitazione 3"
   ]
  },
  {
   "cell_type": "code",
   "execution_count": 1,
   "id": "f4540325-7275-497b-8839-a8115bdbc435",
   "metadata": {},
   "outputs": [],
   "source": [
    "def logistic(z):\n",
    "    return 1/(1+m.e**(-z))\n",
    "\n",
    "def log_loss(X, y, a, a0, eta=0):\n",
    "    ll_sum = 0\n",
    "    for i in range(X.shape[1]):\n",
    "        x = X[:,i:i+1]\n",
    "        guess = logistic(a.T.dot(x)[0][0]+a0)\n",
    "        if guess in (0,1):\n",
    "            print('*********', guess)\n",
    "        ll_sum += y[i]*m.log10(guess) + (1-y[i])*m.log10(1-guess)\n",
    "    return - ll_sum  + eta*(a**2).sum()  # al valore calcolato sommiamo il regolarizzatore\n",
    "\n",
    "def logistic_der(X, y, a, a0, delta=0.001, eta=0.0):\n",
    "    g = np.zeros(a.shape)\n",
    "    for i in range(a.shape[0]):\n",
    "        delta_v = np.zeros(a.shape)\n",
    "        delta_v[i,0] = delta\n",
    "        g[i, 0] = ( log_loss( X, y, a + delta_v, a0, eta) -\\\n",
    "                   log_loss( X, y, a - delta_v, a0, eta) )\\\n",
    "            / (2*delta)\n",
    "    g0 = ( log_loss( X, y, a, a0+delta, eta) -\\\n",
    "          log_loss( X, y, a, a0-delta, eta) ) / (2*delta)\n",
    "    return g, g0\n",
    "\n",
    "def logistic_dg( X, y, step, eps, max_iter, eta=0):\n",
    "    curr_a = np.zeros( (X.shape[0], 1) )\n",
    "    curr_a0 = 0\n",
    "    \n",
    "    for t in range(max_iter):\n",
    "        curr_grad, curr_grad0 = logistic_der(X, y, curr_a, curr_a0)\n",
    "        \n",
    "        next_a  = curr_a - step*curr_grad\n",
    "        next_a0 = curr_a0 - step*curr_grad0\n",
    "        \n",
    "        curr_a, curr_a0 = next_a, next_a0\n",
    "    print('iter:', t)\n",
    "    return curr_a, curr_a0"
   ]
  },
  {
   "cell_type": "markdown",
   "id": "85a4f74d-63cc-428c-99e5-d8c64fbcd54a",
   "metadata": {},
   "source": [
    "## Esercizio 1\n",
    "\n",
    "Tenendo conto che se\n",
    "\n",
    "$$\n",
    "f(z) = y\\ln \\frac{1}{1+e^{-z}} + (1-y)\\ln ( 1 -  \\frac{1}{1+e^{-z}} )\n",
    "$$\n",
    "\n",
    "allora\n",
    "\n",
    "$$\n",
    "f'(z) = y-\\frac{1}{1+e^{-z}}\n",
    "$$\n",
    "\n",
    "Si modifichi la funzione `logistic_der` in modo che utilizzi $f'$ per calcolare il vettore delle derivate parziali al posto del gradiente numerico."
   ]
  },
  {
   "cell_type": "markdown",
   "id": "efa1408a",
   "metadata": {},
   "source": [
    "### Soluzione\n",
    "\n",
    "Partiamo con l'istanziare $f'$ con il nostro valore di $z$.\n",
    "\n",
    "![gradiente](gradiente.png)\n",
    "\n",
    "Nel caso della funzione `log_loss`\n",
    "\n",
    "![gradiente](gradiente.png)\n",
    "\n",
    "che implementiamo in questo modo"
   ]
  },
  {
   "cell_type": "code",
   "execution_count": 2,
   "id": "84b2c958-466c-4e62-9874-8c041c51afd9",
   "metadata": {},
   "outputs": [],
   "source": [
    "def logistic_der(X, y, a, a0 ):\n",
    "    g = np.zeros(a.shape)\n",
    "    for j in range(a.shape[0]):\n",
    "        for i in range(X.shape[1]):\n",
    "            x = X[:,i:i+1]\n",
    "            g[j, 0] += x[j]*(logistic(a.T.dot(x) + a0 ) -y[i])\n",
    "\n",
    "    g0 = 0\n",
    "    for i in range(X.shape[1]):\n",
    "        x = X[:,i:i+1]\n",
    "        g0 += logistic(a.T.dot(x) + a0 ) -y[i]  \n",
    "    \n",
    "    return g, g0"
   ]
  },
  {
   "cell_type": "markdown",
   "id": "543772ae",
   "metadata": {},
   "source": [
    "... che può essere riscritta in modo più razionale nel seguente modo"
   ]
  },
  {
   "cell_type": "code",
   "execution_count": 3,
   "id": "bf8ba40e-2876-4c50-8946-1174649b8037",
   "metadata": {},
   "outputs": [],
   "source": [
    "def logistic_der(X, y, a, a0 ):\n",
    "    g = np.zeros(a.shape)\n",
    "    g0 = 0\n",
    "        \n",
    "    for i in range(X.shape[1]):\n",
    "        x = X[:,i:i+1]\n",
    "        g += x*(logistic(a.T.dot(x) + a0 ) -y[i])\n",
    "        g0 += logistic(a.T.dot(x) + a0 ) -y[i]  \n",
    "    \n",
    "    return g, g0"
   ]
  },
  {
   "cell_type": "markdown",
   "id": "e60e85f3",
   "metadata": {},
   "source": [
    "dove sono stati scambiati le posizioni dei due `for` e sostituito il `for` sugli indici con la somma su vettori.\n",
    "\n",
    "Un esperimento"
   ]
  },
  {
   "cell_type": "code",
   "execution_count": 5,
   "id": "96b2780a-d5b1-4fe4-a391-72f4c590f454",
   "metadata": {},
   "outputs": [
    {
     "name": "stdout",
     "output_type": "stream",
     "text": [
      "iter: 9\n"
     ]
    },
    {
     "data": {
      "text/plain": [
       "[<matplotlib.lines.Line2D at 0x7f2d79a3b640>]"
      ]
     },
     "execution_count": 5,
     "metadata": {},
     "output_type": "execute_result"
    },
    {
     "data": {
      "image/png": "[encoded data removed]",
      "text/plain": [
       "<Figure size 640x480 with 1 Axes>"
      ]
     },
     "metadata": {},
     "output_type": "display_data"
    }
   ],
   "source": [
    "import numpy as np\n",
    "import matplotlib.pyplot as plt\n",
    "import math as m\n",
    "\n",
    "X = [ (3, 2), (-1, 4), (-2, 1), (1,-2), (-3,-1), (-2,2) ]\n",
    "y = [1,0,1,0,0,1]\n",
    "\n",
    "X = np.array(X).T\n",
    "\n",
    "plt.scatter(X[0], X[1], c=['g' if e == 1 else 'r' for e in y])\n",
    "\n",
    "ax = plt.gca()\n",
    "xlim_left, xlim_right = ax.get_xlim()\n",
    "ylim_bottom, ylim_top = ax.get_ylim()\n",
    "\n",
    "a, a0 = logistic_dg(X, y, step=0.1, eps=0.01, max_iter=10)\n",
    "a0 = a0[0][0]\n",
    "\n",
    "plt.plot( ( xlim_left, xlim_right) , [ (-x*a[0][0]-a0)/a[1][0] for x in  (xlim_left, xlim_right) ],\\\n",
    "             linewidth=1, c = 'b', zorder=0 )\n"
   ]
  },
  {
   "cell_type": "markdown",
   "id": "dc24b206-7e2e-4604-b4ff-1c1a173c66d5",
   "metadata": {},
   "source": [
    "## Esercizio 2 (Discesa del gradiente stocastico)\n",
    "\n",
    "Riprendiamo l'algoritmo della *discesa del gradiente*\n",
    "\n",
    "![gd_alg](gd_alg.png)\n",
    "\n",
    "se la funzione $f$ ha questa forma\n",
    "\n",
    "$$\n",
    "f(z) = \\sum_{i=1}^{n} f_i(z)\n",
    "$$\n",
    "\n",
    "(ovvero il caso della `log_loss`), può tornare utile il più efficiente algoritmo della *discesa del gradiente stocastico*\n",
    "\n",
    "![gd_alg](sgd_alg.png)\n",
    "\n",
    "\n",
    "Modificare le funzioni riportate nella prima parte del documento in modo da implementare l'algoritmo di discesa del gradiente stocastico\n",
    "\n",
    "## Esercizio 3\n",
    "\n",
    "Si consideri la shapefile di punti definita dal file `punti.shp`, dopo aver importato il file in un GeoDataFrame ed averlo convertito in un più conveniente sistema di riferimento, si implementi una funzione che preso il GeoDataFrame ed un `float` `eps` ritorni il punto del DataFrame nel cui intorno di raggio `eps` ricadono più punti."
   ]
  }
 ],
 "metadata": {
  "kernelspec": {
   "display_name": "Python 3 (ipykernel)",
   "language": "python",
   "name": "python3"
  },
  "language_info": {
   "codemirror_mode": {
    "name": "ipython",
    "version": 3
   },
   "file_extension": ".py",
   "mimetype": "text/x-python",
   "name": "python",
   "nbconvert_exporter": "python",
   "pygments_lexer": "ipython3",
   "version": "3.10.12"
  }
 },
 "nbformat": 4,
 "nbformat_minor": 5
}
