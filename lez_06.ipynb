{
 "cells": [
  {
   "cell_type": "markdown",
   "id": "ff7a71e5-16ec-4de2-bbc5-f55474864613",
   "metadata": {},
   "source": [
    "# Classificazione di traiettorie"
   ]
  },
  {
   "cell_type": "code",
   "execution_count": 9,
   "id": "6c36bd80-bc0e-4b17-b79a-d9078ac1ea19",
   "metadata": {},
   "outputs": [],
   "source": [
    "import geopandas as gpd\n",
    "import numpy as np\n",
    "from shapely.geometry import Point, LineString\n",
    "import matplotlib.pyplot as plt\n",
    "\n",
    "trails_gdf = gpd.read_file('trails.shp')\n",
    "trails_gdf.crs = \"EPSG:4326\"\n",
    "trails_gdf.to_crs(epsg='3857', inplace=True)"
   ]
  },
  {
   "cell_type": "code",
   "execution_count": 10,
   "id": "a520a248-c1dc-49a7-8c2b-94a4b9649919",
   "metadata": {},
   "outputs": [
    {
     "data": {
      "text/html": [
       "<div>\n",
       "<style scoped>\n",
       "    .dataframe tbody tr th:only-of-type {\n",
       "        vertical-align: middle;\n",
       "    }\n",
       "\n",
       "    .dataframe tbody tr th {\n",
       "        vertical-align: top;\n",
       "    }\n",
       "\n",
       "    .dataframe thead th {\n",
       "        text-align: right;\n",
       "    }\n",
       "</style>\n",
       "<table border=\"1\" class=\"dataframe\">\n",
       "  <thead>\n",
       "    <tr style=\"text-align: right;\">\n",
       "      <th></th>\n",
       "      <th>profiles</th>\n",
       "      <th>geometry</th>\n",
       "    </tr>\n",
       "  </thead>\n",
       "  <tbody>\n",
       "    <tr>\n",
       "      <th>0</th>\n",
       "      <td>foot-walking</td>\n",
       "      <td>LINESTRING (1391904.738 5146242.155, 1391908.4...</td>\n",
       "    </tr>\n",
       "    <tr>\n",
       "      <th>1</th>\n",
       "      <td>driving-car</td>\n",
       "      <td>LINESTRING (1391904.738 5146242.155, 1391908.4...</td>\n",
       "    </tr>\n",
       "    <tr>\n",
       "      <th>2</th>\n",
       "      <td>driving-car</td>\n",
       "      <td>LINESTRING (1391904.738 5146242.155, 1391908.4...</td>\n",
       "    </tr>\n",
       "    <tr>\n",
       "      <th>3</th>\n",
       "      <td>driving-car</td>\n",
       "      <td>LINESTRING (1391904.738 5146242.155, 1391908.4...</td>\n",
       "    </tr>\n",
       "    <tr>\n",
       "      <th>4</th>\n",
       "      <td>driving-car</td>\n",
       "      <td>LINESTRING (1391904.738 5146242.155, 1391908.4...</td>\n",
       "    </tr>\n",
       "    <tr>\n",
       "      <th>...</th>\n",
       "      <td>...</td>\n",
       "      <td>...</td>\n",
       "    </tr>\n",
       "    <tr>\n",
       "      <th>115</th>\n",
       "      <td>foot-walking</td>\n",
       "      <td>LINESTRING (1391904.738 5146242.155, 1391898.6...</td>\n",
       "    </tr>\n",
       "    <tr>\n",
       "      <th>116</th>\n",
       "      <td>foot-walking</td>\n",
       "      <td>LINESTRING (1391904.738 5146242.155, 1391898.6...</td>\n",
       "    </tr>\n",
       "    <tr>\n",
       "      <th>117</th>\n",
       "      <td>foot-walking</td>\n",
       "      <td>LINESTRING (1391904.738 5146242.155, 1391908.4...</td>\n",
       "    </tr>\n",
       "    <tr>\n",
       "      <th>118</th>\n",
       "      <td>foot-walking</td>\n",
       "      <td>LINESTRING (1391904.738 5146242.155, 1391908.4...</td>\n",
       "    </tr>\n",
       "    <tr>\n",
       "      <th>119</th>\n",
       "      <td>foot-walking</td>\n",
       "      <td>LINESTRING (1391904.738 5146242.155, 1391908.4...</td>\n",
       "    </tr>\n",
       "  </tbody>\n",
       "</table>\n",
       "<p>120 rows × 2 columns</p>\n",
       "</div>"
      ],
      "text/plain": [
       "         profiles                                           geometry\n",
       "0    foot-walking  LINESTRING (1391904.738 5146242.155, 1391908.4...\n",
       "1     driving-car  LINESTRING (1391904.738 5146242.155, 1391908.4...\n",
       "2     driving-car  LINESTRING (1391904.738 5146242.155, 1391908.4...\n",
       "3     driving-car  LINESTRING (1391904.738 5146242.155, 1391908.4...\n",
       "4     driving-car  LINESTRING (1391904.738 5146242.155, 1391908.4...\n",
       "..            ...                                                ...\n",
       "115  foot-walking  LINESTRING (1391904.738 5146242.155, 1391898.6...\n",
       "116  foot-walking  LINESTRING (1391904.738 5146242.155, 1391898.6...\n",
       "117  foot-walking  LINESTRING (1391904.738 5146242.155, 1391908.4...\n",
       "118  foot-walking  LINESTRING (1391904.738 5146242.155, 1391908.4...\n",
       "119  foot-walking  LINESTRING (1391904.738 5146242.155, 1391908.4...\n",
       "\n",
       "[120 rows x 2 columns]"
      ]
     },
     "execution_count": 10,
     "metadata": {},
     "output_type": "execute_result"
    }
   ],
   "source": [
    "trails_gdf"
   ]
  },
  {
   "cell_type": "markdown",
   "id": "99caa0ed",
   "metadata": {},
   "source": [
    "Ad una singola riga si può accedere attraverso l'attributo `iloc` e la posizione. "
   ]
  },
  {
   "cell_type": "code",
   "execution_count": 11,
   "id": "5106aeeb-addc-4928-9797-74f802a6cb55",
   "metadata": {},
   "outputs": [
    {
     "data": {
      "image/svg+xml": [
       "<svg xmlns=\"http://www.w3.org/2000/svg\" xmlns:xlink=\"http://www.w3.org/1999/xlink\" width=\"300\" height=\"300\" viewBox=\"1384621.8916548102 5145857.9472126765 7946.6353586500045 6686.007717464119\" preserveAspectRatio=\"xMinYMin meet\"><g transform=\"matrix(1,0,0,-1,0,10298401.902142817)\"><polyline fill=\"none\" stroke=\"#66cc99\" stroke-width=\"52.9775690576667\" points=\"1391904.7377954193,5146242.154553625 1391908.4113386155,5146239.16327503 1391956.501358638,5146198.930668969 1392012.3837430163,5146152.267040774 1392081.0678688358,5146225.852096642 1392127.4880964966,5146275.507373426 1392189.4930528684,5146339.820314449 1392218.9927179287,5146370.6308535915 1392256.5073863259,5146409.6676503075 1392266.4148210066,5146419.838182934 1392274.207185362,5146426.419121582 1392262.407319338,5146455.734267014 1392258.9564151235,5146469.943170904 1392257.1753032706,5146584.5125789475 1392255.394191418,5146593.486742063 1392249.494258406,5146605.751445295 1392205.4117400518,5146661.391516308 1392193.5005545372,5146685.32282935 1392156.319844612,5146789.424738926 1392125.9296236252,5146879.766971014 1392119.695732141,5146897.7158606155 1392104.2223229206,5146942.588232218 1392094.8714856943,5146986.264209743 1392023.849650568,5147189.390045175 1392012.9403404703,5147217.6604782 1392000.695196483,5147228.280609586 1391986.668940643,5147238.601593659 1391971.752128877,5147240.9948669225 1391956.167400166,5147241.742764939 1391910.9716869034,5147245.33267624 1391878.9116735552,5147251.016705224 1391845.2931873356,5147260.589814319 1391814.791646858,5147273.154534572 1391775.607186099,5147301.724376683 1391723.1757059353,5147352.881061456 1391586.475371241,5147469.854393862 1391347.3611050174,5147632.60228359 1391330.5518619076,5147639.782401437 1391315.7463696322,5147643.222876485 1391253.9640522418,5147645.616251164 1391154.8897054356,5147646.962524683 1390885.9418156792,5147656.236858534 1390825.4953321784,5147657.433547431 1390703.7118092505,5147645.466665229 1390671.3178374297,5147639.184058077 1390578.8113405805,5147602.535598743 1390534.6175027355,5147579.349911403 1390496.657556375,5147555.56594224 1390417.1754399487,5147492.291897631 1390401.0341137836,5147482.868139626 1390387.1191774344,5147478.380639084 1390336.9140870867,5147472.846057984 1390302.0710864684,5147470.751893001 1390230.71529287,5147465.516482549 1390181.2894389578,5147460.281074968 1390156.5765120017,5147454.447338473 1390131.8635850456,5147445.621949012 1390087.2244692375,5147421.090400814 1390012.083812952,5147370.232513857 1389969.559767469,5147343.906184656 1389935.9412812495,5147327.153103864 1389900.4303636863,5147317.131185654 1389887.8512612267,5147316.0841201795 1389855.1233309335,5147316.0841201795 1389831.5235988852,5147318.626993674 1389807.923866837,5147326.704361032 1389784.5467737706,5147338.521262623 1389764.397945937,5147351.833992061 1389627.8089307335,5147460.5802410375 1389536.08167032,5147509.942770981 1389502.4631841003,5147539.11165862 1389479.1974105246,5147567.233542352 1389465.1711546846,5147592.0646362 1389444.2430904154,5147649.954244296 1389424.0942625818,5147713.827681679 1389402.9435593311,5147832.450913286 1389402.498281368,5147861.172018204 1389410.4019652144,5147908.292768101 1389411.5151601222,5147931.329663797 1389405.8378660916,5147946.587898039 1389398.9360576626,5147956.460886129 1389386.5795941844,5147965.735520605 1389369.4363926025,5147969.62488613 1389345.1687436095,5147965.735520605 1389276.7072567716,5147937.163691658 1389085.905649552,5147869.848202305 1388990.9501239052,5147827.364893294 1388972.248449452,5147815.397798116 1388933.6205861468,5147785.180949543 1388919.0377328529,5147780.842894973 1388812.171021691,5147765.884101229 1388783.784551539,5147759.451827124 1388716.992857063,5147736.864108198 1388708.0872977998,5147733.872361354 1388620.2562195635,5147703.655770777 1388566.154947038,5147683.611154535 1388549.011745456,5147674.935139656 1388504.2613101571,5147659.0789949065 1388491.2369297342,5147663.416994155 1388484.7803992683,5147672.990516714 1388448.935523233,5147782.488363717 1388445.039341055,5147806.422486576 1388444.482743601,5147855.338036775 1388412.8680082157,5147964.987565877 1388389.9361931123,5147985.481546592 1388375.4646593092,5148039.035368095 1388339.3971442922,5148158.560203881 1388337.3933934579,5148166.339093613 1388332.1613773906,5148188.030261917 1388341.2895756357,5148204.336069158 1388336.391518041,5148245.7738880925 1388325.1482494706,5148415.4165094225 1388326.3727638694,5148469.122341351 1388337.0594349855,5148554.693260378 1388355.538470457,5148664.201219584 1388359.3233331444,5148717.3100400735 1388361.3270839783,5148770.26955244 1388358.2101382364,5148821.733314832 1388349.3045789727,5148873.197354644 1388333.8311697524,5148908.653845806 1388321.5860257654,5148950.693147299 1388285.8524692208,5149054.370934744 1388265.9262803686,5149105.237793408 1388226.2965416461,5149202.484012866 1388189.3384707028,5149267.265505729 1388145.589910821,5149333.393949539 1388097.0546128354,5149389.199531143 1388023.36110993,5149449.942706578 1387977.7201187047,5149479.416751175 1387963.9165018466,5149485.999798949 1387888.887165052,5149515.3243396375 1387723.1324432606,5149554.224379555 1387689.1799985687,5149563.799798311 1387625.1712913627,5149586.5414563455 1387571.181338328,5149608.983935149 1387525.0950691395,5149630.229530368 1387438.3771858115,5149681.099457544 1387408.3209232972,5149701.8963587815 1387341.640548312,5149754.711714481 1387302.456087553,5149793.911969118 1387257.3716937816,5149851.814929821 1387235.107795623,5149887.275055909 1387211.1741051024,5149933.657698153 1387204.383616164,5149948.320644844 1387196.4799323177,5149967.771527252 1387181.8970790238,5150014.453806743 1387167.9821426745,5150075.799457048 1387165.3104748956,5150100.3378275605 1387165.3104748956,5150196.097925658 1387170.431171472,5150244.726468268 1387187.5743730543,5150330.163676965 1387199.8195170416,5150377.1469862815 1387216.740079642,5150404.828343667 1387225.6456389055,5150425.028303777 1387262.603709849,5150514.207897892 1387298.3372663937,5150585.432467499 1387281.6393427746,5150594.709656443 1387268.7262818424,5150601.293473424 1387003.8972132453,5150739.853947922 1386985.9747752275,5150747.784575896 1387001.7821429204,5150779.207883593 1387026.0497919132,5150818.26271021 1387077.4793966596,5150877.817887563 1387254.5887065118,5151079.380503773 1387279.5242724495,5151107.21353804 1387332.1783915947,5151156.146004749 1387378.3759802738,5151204.180872047 1387382.606120924,5151212.860095042 1387382.4948014333,5151229.171069953 1387377.262785366,5151239.197095888 1387349.210273686,5151277.505590495 1387329.1727653432,5151300.550618355 1387323.0501933498,5151307.883138889 1387187.129095091,5151470.397182917 1387183.1215934225,5151474.5872685285 1387150.5049826202,5151512.597414902 1387101.7470456525,5151569.612918311 1387087.8321093034,5151613.908662632 1387080.1510644387,5151658.503910209 1387065.7908501264,5151842.274444574 1387059.7795976235,5151867.864921835 1387050.7627188691,5151885.972844862 1387017.1442326498,5151932.963813657 1387003.563254773,5151945.385031971 1386978.5163693444,5151956.609038329 1386959.2580974372,5151958.40488057 1386940.3337840023,5151954.813196425 1386854.6177760917,5151923.535670789 1386684.0763161962,5151870.708312433 1386577.7662024887,5151856.940323732 1386525.6686807976,5151858.2871913165 1386507.3009648165,5151860.531971045 1386466.4467116955,5151870.857964593 1386406.4455061578,5151894.353382854 1386363.4761827115,5151912.910314595 1386303.2523381924,5151951.8201273335 1386226.8871675082,5152010.03548956 1386165.550128081,5152067.502930663 1386089.1849573972,5152125.868654755 1386005.138741848,5152165.826933254 1385859.7554868718,5152209.826130094 1385661.161515297,5152237.662461438 1385356.814027468,5152249.635102043 1385305.2731032309,5152246.19296633 1385261.0792653859,5152239.75767246 1385211.4307724922,5152227.336070983 1385175.919854929,5152215.812431057 1385138.293867041,5152198.751483213 1385102.4489910053,5152192.465878538 1385055.3608463998,5152172.411834157 1384994.1351264634,5152134.099747129 1384926.007598098,5152086.658821268 1384917.9925947608,5152080.5229458725 1384916.2114829083,5152068.849827964 1384917.7699557794,5152058.52362018 1384922.4453743927,5152048.496733456 1384927.9000294418,5152043.408466612 1384948.0488572752,5152027.5450638635 1384955.5072631582,5152017.51820969 1384963.2996275139,5152000.7569247475 1384973.429701176,5151884.177016253 1384982.4465799304,5151772.088049198 1384972.316506268,5151694.120398553 1385079.0718979388,5151694.419697337 1385102.2263520237,5151693.821099778 1385098.8867673,5151675.863190444 1385100.3339206805,5151662.095482839 1385132.8392119918,5151573.653399981 1385156.8842220032,5151504.366858555 1385163.563391451,5151469.79859941 1385034.0988236584,5151476.831958008 1385027.5309737015,5151474.736914479 1385023.3008330516,5151469.948245282 1384993.467209519,5151409.641148271 1384990.7955417398,5151370.883190303\" opacity=\"0.8\" /></g></svg>"
      ],
      "text/plain": [
       "<LINESTRING (1391904.738 5146242.155, 1391908.411 5146239.163, 1391956.501 5...>"
      ]
     },
     "execution_count": 11,
     "metadata": {},
     "output_type": "execute_result"
    }
   ],
   "source": [
    "t = trails_gdf.iloc[3]\n",
    "\n",
    "t['geometry']"
   ]
  },
  {
   "cell_type": "markdown",
   "id": "c21e56ad-09d2-4d98-a816-4ac0ab6a0635",
   "metadata": {},
   "source": [
    "Le features usate per la classificazione si basano sulla definizione di punti di riferimento dai quali calcoliamo la distanza dalla curva. In questo modo otteniamo una vettorizzazione della curva che può essere utilizzata come insieme di *features* da utilizzare negli algoritmi di apprendimento [[1]](https://arxiv.org/abs/1804.11284). \n",
    "\n",
    "Creeremo, per ogni traiettoria, un vettore denominato `img` di dimensione $d\\times d$ dove `img[r,c]` rappresenta il punto `p` nello spazio di coordinate\n",
    "\n",
    "```python\n",
    "min_x + c*(max_x-min_x)/d, min_y + r*(max_y-min_y)/d\n",
    "```\n",
    "\n",
    "dove con `min_x, min_y, max_x, max_y` indichiamo il gli estremi del rettangolo che contiene tutte le traiettorie.\n",
    "\n",
    "Il valore di `img[r,c]` sarà la distanza di `p` dalla curva. Quindi `img` sarà un vettore di $d^2$ features che può essere visto come una immagine che rappresenta la curva. In questo modo il problema di classificare percorsi diventa un problema di classificazione di immagini.\n",
    "\n",
    "Il seguente codice crea il vettore `X` di immagini e il vettore `y` di etichette."
   ]
  },
  {
   "cell_type": "code",
   "execution_count": 12,
   "id": "ca4526c5-8bdf-42ec-9127-a6d9dec28984",
   "metadata": {},
   "outputs": [],
   "source": [
    "min_x, min_y, max_x, max_y = trails_gdf.total_bounds\n",
    "\n",
    "dim = (50, 50)\n",
    "\n",
    "img = np.zeros( dim )\n",
    "\n",
    "# img[r][c] si riferisce al punto in posizione\n",
    "# min_y + r*(max_y-min_y)/dim[0], min_x + r*(max_x-min_x)/dim[1] \n",
    "\n",
    "# img[r][c] contiene la distanza tra il punto rappresentato da r,c e la traccia\n",
    "\n",
    "X = []\n",
    "y = []\n",
    "\n",
    "for _,t in trails_gdf.iterrows(): # itera sulle righe del GeoDataFrame, ritorna la coppia posizione, riga \n",
    "    p = 1 if t['profiles'] == 'foot-walking' else -1 # \n",
    "    y.append(p)\n",
    "    for r in range(dim[0]):\n",
    "        for c in range(dim[1]):\n",
    "            p = Point( min_x + c*(max_x-min_x)/dim[1], min_y + r*(max_y-min_y)/dim[0]  )\n",
    "            # Point è un tipo di dato definito nella libreria shapely,\n",
    "            # t['geometry'] è una Linestring, il metodo distance restituisce la distanza tra due oggetti\n",
    "            img[r,c] = p.distance(t['geometry'])\n",
    "    row = img.reshape(dim[0]*dim[1]) # trasformiamo img in un array monodimensionale che sarà impilato ad X\n",
    "    try:\n",
    "        X = np.vstack([X, row])\n",
    "    except ValueError:\n",
    "        X = np.array(row)\n",
    "        \n",
    "\n",
    "X = X.T  # in X i vettorei delle features sono righe, a noi interessa che siano colonne\n",
    "y = np.array(y)"
   ]
  },
  {
   "cell_type": "markdown",
   "id": "87fde3b0",
   "metadata": {},
   "source": [
    "Possiamo visualizzare l'ultimo valore di `img` con la libreria `matplotlib`."
   ]
  },
  {
   "cell_type": "code",
   "execution_count": 13,
   "id": "0fe5e344",
   "metadata": {},
   "outputs": [
    {
     "data": {
      "text/plain": [
       "<matplotlib.image.AxesImage at 0x7fcb450b5600>"
      ]
     },
     "execution_count": 13,
     "metadata": {},
     "output_type": "execute_result"
    },
    {
     "data": {
      "image/png": "[encoded data removed]",
      "text/plain": [
       "<Figure size 640x480 with 1 Axes>"
      ]
     },
     "metadata": {},
     "output_type": "display_data"
    }
   ],
   "source": [
    "plt.imshow(img)"
   ]
  },
  {
   "cell_type": "markdown",
   "id": "97358e66",
   "metadata": {},
   "source": [
    "L'array può essere salvato in un file di testo e poi letto usando apposite funzioni di `numpy`."
   ]
  },
  {
   "cell_type": "code",
   "execution_count": 14,
   "id": "9d058a4d",
   "metadata": {},
   "outputs": [],
   "source": [
    "np.savetxt('X.txt', X)\n",
    "\n",
    "X = np.loadtxt('X.txt')"
   ]
  },
  {
   "cell_type": "markdown",
   "id": "c5cc70ee",
   "metadata": {},
   "source": [
    "Proviamo ad addestrare un modello con l'algoritmo perceptrone testarlo con un test set."
   ]
  },
  {
   "cell_type": "code",
   "execution_count": 24,
   "id": "4a815e14",
   "metadata": {},
   "outputs": [],
   "source": [
    "X_train, y_train = X[:, :100], y[:100]\n",
    "X_test, y_test = X[:, 20:], y[20:]"
   ]
  },
  {
   "cell_type": "code",
   "execution_count": 26,
   "id": "fa5649fa",
   "metadata": {},
   "outputs": [],
   "source": [
    "def perceptron( X, y, t=100):\n",
    "    '''\n",
    "        Input: X un array di dimensione d x n, y un array di 1xd.\n",
    "            X[:i] è descrive il punto i\n",
    "            t un upper bound sul numero di pass\n",
    "        Ritorna a, a0 ovvero i coefficienti dell'iperpiano separatore\n",
    "    '''\n",
    "    d, n = X.shape\n",
    "    \n",
    "    a = np.zeros( (d, 1) ) # vettore colonna\n",
    "    a0 = 0\n",
    "\n",
    "\n",
    "    for j in range(t):\n",
    "        finito = True\n",
    "        for i in range(n):\n",
    "            x = X[:,i:i+1] # colonna i, ovvero punto i\n",
    "            if y[i]*(a.T.dot(x) + a0) <= 0:\n",
    "                a = a + x*y[i]\n",
    "                a0 = a0 + y[i]\n",
    "                finito = False\n",
    "        if finito:\n",
    "            break\n",
    "    return a, a0"
   ]
  },
  {
   "cell_type": "code",
   "execution_count": 27,
   "id": "62c3d6a9",
   "metadata": {},
   "outputs": [],
   "source": [
    "a, a0 = perceptron(X_train, y_train)"
   ]
  },
  {
   "cell_type": "markdown",
   "id": "25233651",
   "metadata": {},
   "source": [
    "La seguente funzione testa il modello con un insieme di esempi. Ritorna il vettore delle ipotesi."
   ]
  },
  {
   "cell_type": "code",
   "execution_count": 28,
   "id": "27ecfcaa",
   "metadata": {},
   "outputs": [],
   "source": [
    "def predict(X_test, a, a0):\n",
    "    y_predict = []\n",
    "    for i in range(X_test.shape[1]):\n",
    "        x = X_test[:,i:i+1]\n",
    "        y_predict.append(1 if (a.T.dot(x) + a0) > 0 else -1)\n",
    "    return np.array(y_predict)"
   ]
  },
  {
   "cell_type": "code",
   "execution_count": 29,
   "id": "acacf1b8",
   "metadata": {},
   "outputs": [],
   "source": [
    "y_predict = predict(X_test, a, a0)"
   ]
  },
  {
   "cell_type": "markdown",
   "id": "152ab1ba",
   "metadata": {},
   "source": [
    "Confrontiamo `y_test` con `y_predict` per ottenere il numero di errori."
   ]
  },
  {
   "cell_type": "code",
   "execution_count": 30,
   "id": "76db043b",
   "metadata": {},
   "outputs": [
    {
     "name": "stdout",
     "output_type": "stream",
     "text": [
      "19.0\n"
     ]
    }
   ],
   "source": [
    "errors = (np.abs(y_predict -y_test)/2).sum()\n",
    "print(errors)"
   ]
  },
  {
   "cell_type": "markdown",
   "id": "aebb504f",
   "metadata": {},
   "source": [
    "Dal numero di errori è facile calcolare l'accuratezza."
   ]
  },
  {
   "cell_type": "code",
   "execution_count": 31,
   "id": "f41451b9",
   "metadata": {},
   "outputs": [
    {
     "name": "stdout",
     "output_type": "stream",
     "text": [
      "0.81\n"
     ]
    }
   ],
   "source": [
    "accuracy = (X_test.shape[1]-errors)/X_test.shape[1]\n",
    "print(accuracy)"
   ]
  },
  {
   "cell_type": "markdown",
   "id": "ce439558",
   "metadata": {},
   "source": [
    "La prossima funzione esegue una validazione incrociata dell'algoritmo"
   ]
  },
  {
   "cell_type": "code",
   "execution_count": 32,
   "id": "adace4bc",
   "metadata": {},
   "outputs": [],
   "source": [
    "def x_validation(X, y, k = 10):\n",
    "    '''\n",
    "    X np.array che descrive le features di n esempi sulle n colonne\n",
    "    y np.array delle etichette\n",
    "    k numero di blocchi\n",
    "    '''\n",
    "    \n",
    "    X_split = np.split(X, k, axis=1) # ritorna una lista di k sottovettori di X\n",
    "    y_split = np.split(y, k)\n",
    "    \n",
    "    accuracies_sum = 0\n",
    "    for i in range(k):\n",
    "        X_test, y_test = X_split[i], y_split[i]\n",
    "        # concatenate concatena gli array dentro una lista\n",
    "        X_train, y_train = np.concatenate(X_split[:i]+X_split[i+1:], axis=1), np.concatenate(y_split[:i]+y_split[i+1:])    \n",
    "        \n",
    "        a, a0 = perceptron(X_train, y_train)\n",
    "        \n",
    "        y_predict = predict(X_test, a, a0)\n",
    "        \n",
    "        errors = (np.abs(y_predict-y_test)/2).sum()\n",
    "        \n",
    "        accuracy = (X_test.shape[1]-errors)/X_test.shape[1]\n",
    "    \n",
    "        accuracies_sum += accuracy\n",
    "        \n",
    "    return accuracies_sum/k"
   ]
  },
  {
   "cell_type": "code",
   "execution_count": 33,
   "id": "f27df023",
   "metadata": {},
   "outputs": [
    {
     "name": "stdout",
     "output_type": "stream",
     "text": [
      "0.7416666666666666\n"
     ]
    }
   ],
   "source": [
    "print(x_validation(X, y, k=6))"
   ]
  },
  {
   "cell_type": "markdown",
   "id": "0015dddd",
   "metadata": {},
   "source": [
    "Prendendo come features funzioni della distanza si ottengono risultati diversi. Ad esempio si può utilizzare la redice quadrata della distanza in questo modo"
   ]
  },
  {
   "cell_type": "code",
   "execution_count": 34,
   "id": "7083ae9e",
   "metadata": {},
   "outputs": [
    {
     "name": "stdout",
     "output_type": "stream",
     "text": [
      "0.6333333333333334\n"
     ]
    }
   ],
   "source": [
    "print(x_validation(X**0.5, y, k=6))"
   ]
  },
  {
   "cell_type": "markdown",
   "id": "97894d5b",
   "metadata": {},
   "source": [
    "La dimensione ridotta del dataset non ci consente di formulare conclusioni. Potrebbe essere interessante testare questo metodo usando dataset simili a questo disponibili in rete."
   ]
  }
 ],
 "metadata": {
  "kernelspec": {
   "display_name": "Python 3 (ipykernel)",
   "language": "python",
   "name": "python3"
  },
  "language_info": {
   "codemirror_mode": {
    "name": "ipython",
    "version": 3
   },
   "file_extension": ".py",
   "mimetype": "text/x-python",
   "name": "python",
   "nbconvert_exporter": "python",
   "pygments_lexer": "ipython3",
   "version": "3.10.12"
  }
 },
 "nbformat": 4,
 "nbformat_minor": 5
}
