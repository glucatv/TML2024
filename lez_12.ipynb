{
 "cells": [
  {
   "cell_type": "markdown",
   "id": "4eb981c4-e644-46a8-9dcf-a85b0353c9e2",
   "metadata": {},
   "source": [
    "# Esercitazione 4"
   ]
  },
  {
   "cell_type": "code",
   "execution_count": 15,
   "id": "f4540325-7275-497b-8839-a8115bdbc435",
   "metadata": {},
   "outputs": [],
   "source": [
    "def logistic(z):\n",
    "    return 1/(1+m.e**(-z))\n",
    "\n",
    "def log_loss(X, y, a, a0):\n",
    "    ll_sum = 0\n",
    "    for i in range(X.shape[1]):\n",
    "        x = X[:,i:i+1]\n",
    "        guess = logistic(a.T.dot(x)[0][0]+a0)\n",
    "        ll_sum += y[i]*m.log10(guess) + (1-y[i])*m.log10(1-guess)\n",
    "    return - ll_sum\n",
    "\n",
    "def logistic_der(X, y, a, a0 ):\n",
    "    g = np.zeros(a.shape)\n",
    "    g0 = 0\n",
    "        \n",
    "    for i in range(X.shape[1]):\n",
    "        x = X[:,i:i+1]\n",
    "        g += x*(logistic(a.T.dot(x) + a0 ) -y[i])\n",
    "        g0 += logistic(a.T.dot(x) + a0 ) -y[i]  \n",
    "    \n",
    "    return g, g0\n",
    "\n",
    "def logistic_dg( X, y, step, eps, max_iter):\n",
    "    curr_a = np.zeros( (X.shape[0], 1) )\n",
    "    curr_a0 = 0\n",
    "    \n",
    "    for t in range(max_iter):\n",
    "        curr_grad, curr_grad0 = logistic_der(X, y, curr_a, curr_a0)\n",
    "        \n",
    "        next_a  = curr_a - step*curr_grad\n",
    "        next_a0 = curr_a0 - step*curr_grad0\n",
    "        \n",
    "        curr_a, curr_a0 = next_a, next_a0\n",
    "    print('iter:', t)\n",
    "    return curr_a, curr_a0"
   ]
  },
  {
   "cell_type": "markdown",
   "id": "f6e09948-0dad-452e-8270-96093cb14894",
   "metadata": {},
   "source": [
    "## Esercizio 1 (Discesa del gradiente stocastico)\n",
    "\n",
    "Riprendiamo l'algoritmo della *discesa del gradiente*\n",
    "\n",
    "![gd_alg](gd_alg.png)\n",
    "\n",
    "se la funzione $f$ ha questa forma\n",
    "\n",
    "$$\n",
    "f(z) = \\sum_{i=1}^{n} f_i(z)\n",
    "$$\n",
    "\n",
    "(ovvero il caso della `log_loss`), può tornare utile il più efficiente algoritmo della *discesa del gradiente stocastico*\n",
    "\n",
    "![gd_alg](sgd_alg.png)\n",
    "\n",
    "Che converge al minimo se `step` è una funzione decrescente in `t` tale che\n",
    "\n",
    "$$\n",
    "\\sum_{t=1}^{+\\infty} step(t) < +\\infty\n",
    "$$\n",
    "\n",
    "Modificare le funzioni riportate nella prima parte del documento in modo da implementare l'algoritmo di discesa del gradiente stocastico"
   ]
  },
  {
   "cell_type": "markdown",
   "id": "91692781-7f32-4d40-8eea-7effa5c8d8f0",
   "metadata": {},
   "source": [
    "\n",
    "### Soluzione\n",
    "\n",
    "Aggiungere la/e funzioni modificate nel seguente codice"
   ]
  },
  {
   "cell_type": "code",
   "execution_count": 29,
   "id": "2f6043b1-bbcf-4608-a318-1698eefa3763",
   "metadata": {},
   "outputs": [
    {
     "name": "stdout",
     "output_type": "stream",
     "text": [
      "iter: 999\n"
     ]
    },
    {
     "data": {
      "text/plain": [
       "[<matplotlib.lines.Line2D at 0x1d84a0e8610>]"
      ]
     },
     "execution_count": 29,
     "metadata": {},
     "output_type": "execute_result"
    },
    {
     "data": {
      "image/png": "[encoded data removed]",
      "text/plain": [
       "<Figure size 640x480 with 1 Axes>"
      ]
     },
     "metadata": {},
     "output_type": "display_data"
    }
   ],
   "source": [
    "import numpy as np\n",
    "import matplotlib.pyplot as plt\n",
    "import math as m\n",
    "import random as rn\n",
    "\n",
    "def logistic_der(X, y, a, a0 ):\n",
    "    i = rn.randint(0, X.shape[1]-1)\n",
    "    x = X[:,i:i+1]\n",
    "        \n",
    "    g = x*(logistic(a.T.dot(x) + a0 ) -y[i])\n",
    "    g0 = logistic(a.T.dot(x) + a0 ) -y[i]  \n",
    "    \n",
    "    return g, g0\n",
    "\n",
    "\n",
    "def logistic_dg( X, y, step, eps, max_iter):\n",
    "    curr_a = np.zeros( (X.shape[0], 1) )\n",
    "    curr_a0 = 0\n",
    "    \n",
    "    for t in range(max_iter):\n",
    "        curr_grad, curr_grad0 = logistic_der(X, y, curr_a, curr_a0)\n",
    "        \n",
    "        next_a  = curr_a - step(t)*curr_grad\n",
    "        next_a0 = curr_a0 - step(t)*curr_grad0\n",
    "        \n",
    "        curr_a, curr_a0 = next_a, next_a0\n",
    "    print('iter:', t)\n",
    "    return curr_a, curr_a0\n",
    "    \n",
    "X = [ (3, 2), (-1, 4), (-2, 1), (1,-2), (-3,-1), (-2,2) ]\n",
    "y = [1,0,1,0,0,1]\n",
    "\n",
    "X = np.array(X).T\n",
    "\n",
    "plt.scatter(X[0], X[1], c=['g' if e == 1 else 'r' for e in y])\n",
    "\n",
    "ax = plt.gca()\n",
    "xlim_left, xlim_right = ax.get_xlim()\n",
    "ylim_bottom, ylim_top = ax.get_ylim()\n",
    "\n",
    "def f(x):\n",
    "    return 1/(x+1)\n",
    "\n",
    "a, a0 = logistic_dg(X, y, step=f, eps=0.01, max_iter=1000)\n",
    "\n",
    "a0 = a0[0][0]\n",
    "\n",
    "plt.plot( ( xlim_left, xlim_right) , [ (-x*a[0][0]-a0)/a[1][0] for x in  (xlim_left, xlim_right) ],\\\n",
    "             linewidth=1, c = 'b', zorder=0 )"
   ]
  },
  {
   "cell_type": "markdown",
   "id": "7ba9fcc8-d31c-43fa-a2b3-6c602843048e",
   "metadata": {},
   "source": [
    "## Esercizio 3\n",
    "\n",
    "Sperimentare l'algoritmo `DBSCAN` con  i punti del file `walk.shp`. Inoltre modificare l'algoritmo in modo che elimini dal dataframe tutti i punti di ogni cluster tranne quello che è più vicino al centroide del cluster (vedere la documentazione della libreria shapely; potrebbe far comodo usare il tipo `MultiPoint` della suddetta libreria).\n",
    "\n",
    "### Soluzione"
   ]
  },
  {
   "cell_type": "code",
   "execution_count": 18,
   "id": "f0881142-5b36-4491-b56e-f00a1539f68e",
   "metadata": {},
   "outputs": [],
   "source": [
    "import numpy as np\n",
    "import geopandas as gpd\n",
    "from shapely.geometry import Point, MultiPoint\n",
    "from os.path import join\n",
    "\n",
    "def dbscan(punti_gdf, eps = 4, min_pts = 4):\n",
    "    n = punti_gdf.shape[0]\n",
    "    c = -1\n",
    "    labels = ['None']*n\n",
    "    \n",
    "    for i, p in punti_gdf.iterrows():\n",
    "        if labels[i] != 'None':\n",
    "            continue\n",
    "        \n",
    "        N = punti_gdf[ punti_gdf.distance(p['geometry']) < eps ]\n",
    "        \n",
    "        if len(N) < min_pts:\n",
    "            labels[i] = 'Noise'\n",
    "            continue\n",
    "    \n",
    "        c += 1\n",
    "        labels[i] = str(c)\n",
    "        \n",
    "        S = set(list(N.index)) - set([i])\n",
    "        \n",
    "        while len(S) > 0:\n",
    "            q = S.pop()\n",
    "            if labels[q] == 'Noise':\n",
    "                labels[q] = str(c)\n",
    "            if labels[q] != 'None':\n",
    "                continue\n",
    "            q_geom =  punti_gdf.loc[q, 'geometry']\n",
    "            N = punti_gdf[ punti_gdf.distance(q_geom) < eps ]\n",
    "            labels[q] = str(c)\n",
    "            if len(N) < min_pts:\n",
    "                continue\n",
    "            S = S.union(set(list(N.index)) - set([q]))\n",
    "            \n",
    "    punti_gdf['label'] = labels\n",
    "    \n",
    "    return c+1 # numero di cluster"
   ]
  },
  {
   "cell_type": "code",
   "execution_count": 19,
   "id": "7c77423f-404f-4549-b649-0b06b437b05d",
   "metadata": {},
   "outputs": [
    {
     "name": "stdout",
     "output_type": "stream",
     "text": [
      "Numero di cluster: 6\n"
     ]
    },
    {
     "data": {
      "text/plain": [
       "<Axes: >"
      ]
     },
     "execution_count": 19,
     "metadata": {},
     "output_type": "execute_result"
    },
    {
     "data": {
      "image/png": "[encoded data removed]",
      "text/plain": [
       "<Figure size 640x480 with 1 Axes>"
      ]
     },
     "metadata": {},
     "output_type": "display_data"
    }
   ],
   "source": [
    "punti_gdf = gpd.read_file(join('data','walk.shp'))\n",
    "\n",
    "print('Numero di cluster:', dbscan(punti_gdf, 5, 4) )\n",
    "\n",
    "punti_gdf.plot('label', legend=True)"
   ]
  },
  {
   "cell_type": "markdown",
   "id": "8d4149d8-5389-40bc-8365-eaf849533d2d",
   "metadata": {},
   "source": [
    "Per risolvere il problema:\n",
    "\n",
    "1. filtrare dal geodataframe i punti di ogni cluster p.e. in questo modo  "
   ]
  },
  {
   "cell_type": "code",
   "execution_count": 21,
   "id": "43887e16-d42a-4942-b7fb-a6cc84d39536",
   "metadata": {},
   "outputs": [
    {
     "data": {
      "text/html": [
       "<div>\n",
       "<style scoped>\n",
       "    .dataframe tbody tr th:only-of-type {\n",
       "        vertical-align: middle;\n",
       "    }\n",
       "\n",
       "    .dataframe tbody tr th {\n",
       "        vertical-align: top;\n",
       "    }\n",
       "\n",
       "    .dataframe thead th {\n",
       "        text-align: right;\n",
       "    }\n",
       "</style>\n",
       "<table border=\"1\" class=\"dataframe\">\n",
       "  <thead>\n",
       "    <tr style=\"text-align: right;\">\n",
       "      <th></th>\n",
       "      <th>FID</th>\n",
       "      <th>geometry</th>\n",
       "      <th>label</th>\n",
       "    </tr>\n",
       "  </thead>\n",
       "  <tbody>\n",
       "    <tr>\n",
       "      <th>297</th>\n",
       "      <td>297</td>\n",
       "      <td>POINT Z (352582.146 4573218.446 13.000)</td>\n",
       "      <td>2</td>\n",
       "    </tr>\n",
       "    <tr>\n",
       "      <th>298</th>\n",
       "      <td>298</td>\n",
       "      <td>POINT Z (352578.618 4573217.963 13.000)</td>\n",
       "      <td>2</td>\n",
       "    </tr>\n",
       "    <tr>\n",
       "      <th>299</th>\n",
       "      <td>299</td>\n",
       "      <td>POINT Z (352577.706 4573222.535 13.000)</td>\n",
       "      <td>2</td>\n",
       "    </tr>\n",
       "    <tr>\n",
       "      <th>300</th>\n",
       "      <td>300</td>\n",
       "      <td>POINT Z (352572.703 4573219.527 13.000)</td>\n",
       "      <td>2</td>\n",
       "    </tr>\n",
       "    <tr>\n",
       "      <th>301</th>\n",
       "      <td>301</td>\n",
       "      <td>POINT Z (352576.052 4573219.459 13.000)</td>\n",
       "      <td>2</td>\n",
       "    </tr>\n",
       "    <tr>\n",
       "      <th>302</th>\n",
       "      <td>302</td>\n",
       "      <td>POINT Z (352581.048 4573222.134 13.000)</td>\n",
       "      <td>2</td>\n",
       "    </tr>\n",
       "    <tr>\n",
       "      <th>303</th>\n",
       "      <td>303</td>\n",
       "      <td>POINT Z (352574.517 4573222.266 13.000)</td>\n",
       "      <td>2</td>\n",
       "    </tr>\n",
       "  </tbody>\n",
       "</table>\n",
       "</div>"
      ],
      "text/plain": [
       "     FID                                 geometry label\n",
       "297  297  POINT Z (352582.146 4573218.446 13.000)     2\n",
       "298  298  POINT Z (352578.618 4573217.963 13.000)     2\n",
       "299  299  POINT Z (352577.706 4573222.535 13.000)     2\n",
       "300  300  POINT Z (352572.703 4573219.527 13.000)     2\n",
       "301  301  POINT Z (352576.052 4573219.459 13.000)     2\n",
       "302  302  POINT Z (352581.048 4573222.134 13.000)     2\n",
       "303  303  POINT Z (352574.517 4573222.266 13.000)     2"
      ]
     },
     "execution_count": 21,
     "metadata": {},
     "output_type": "execute_result"
    }
   ],
   "source": [
    "C2 = punti_gdf[ punti_gdf['label'] == '2' ]\n",
    "C2"
   ]
  },
  {
   "cell_type": "markdown",
   "id": "6a67a97d-0fdd-41c4-9fad-45b0a9c3a763",
   "metadata": {},
   "source": [
    "2. Inserire tutti i punti in un MultiPoint `mp`\n",
    "3. Calcolare il centroide di `mp` con il metodi `centroid`\n",
    "4. Trovare l'indice in `C2` del punto più vicino al centroide\n",
    "5. Eliminare tutti gli altri punti di `C2` dal geodataframe di partenza"
   ]
  }
 ],
 "metadata": {
  "kernelspec": {
   "display_name": "Python 3 (ipykernel)",
   "language": "python",
   "name": "python3"
  },
  "language_info": {
   "codemirror_mode": {
    "name": "ipython",
    "version": 3
   },
   "file_extension": ".py",
   "mimetype": "text/x-python",
   "name": "python",
   "nbconvert_exporter": "python",
   "pygments_lexer": "ipython3",
   "version": "3.11.5"
  }
 },
 "nbformat": 4,
 "nbformat_minor": 5
}
