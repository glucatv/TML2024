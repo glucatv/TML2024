{
 "cells": [
  {
   "cell_type": "markdown",
   "id": "624a1560",
   "metadata": {},
   "source": [
    "## Soluzione Esercizio 2\n",
    "\n",
    "Implementare la seguente funzione che ritorna il gradiente numerico della `log_loss` su un punto `a,a0`\n",
    "\n",
    "```python\n",
    "def logistic_der(X, y, a, a0, delta=0.001):\n",
    "    pass\n",
    "```\n",
    "I parametri `X`, `y`, `a` e `a0` hanno le stesse catatteristiche dell'esercizio precedente. Ritorna una coppia `g`, `g0` dove `g` è un vettore dalla dimensione di `a` e contiene le derivate paziali sui coefficienti calcolati in `a` mentre `g0` è da derivata di `log_los` rispetto al termine noto calcolata in `a0`."
   ]
  },
  {
   "cell_type": "code",
   "execution_count": 4,
   "id": "c6b19abc",
   "metadata": {},
   "outputs": [],
   "source": [
    "def logistic(z):\n",
    "    return 1/(1+m.e**(-z))\n",
    "\n",
    "def log_loss(X, y, a, a0, eta=0):\n",
    "    ll_sum = 0\n",
    "    for i in range(X.shape[1]):\n",
    "        x = X[:,i:i+1]\n",
    "        guess = logistic(a.T.dot(x)[0][0]+a0)\n",
    "        if guess in (0,1):\n",
    "            print('*********', guess)\n",
    "        ll_sum += y[i]*m.log10(guess) + (1-y[i])*m.log10(1-guess)\n",
    "    return -( ll_sum  + eta*(a**2).sum() ) # al valore calcolato sommiamo il regolarizzatore\n",
    "\n",
    "def logistic_der(X, y, a, a0, delta=0.001, eta=0.5):\n",
    "    g = np.zeros(a.shape)\n",
    "    for i in range(a.shape[0]):\n",
    "        delta_v = np.zeros(a.shape)\n",
    "        delta_v[i,0] = delta\n",
    "        g[i, 0] = ( log_loss( X, y, a + delta_v, a0, eta) -\\\n",
    "                   log_loss( X, y, a - delta_v, a0, eta) )\\\n",
    "            / (2*delta)\n",
    "    g0 = ( log_loss( X, y, a, a0+delta, eta) -\\\n",
    "          log_loss( X, y, a, a0-delta, eta) ) / (2*delta)\n",
    "    return g, g0"
   ]
  },
  {
   "cell_type": "markdown",
   "id": "2ab710d5-b923-4f90-9414-3e383520377d",
   "metadata": {},
   "source": [
    "# Gradiend descend e classificatore lineare logistico\n",
    "\n",
    "Implementare l'algoritmo *gradient descent* tarato sulla *log_loss*.\n",
    "\n",
    "```python\n",
    "def logistic_gd(X, y, step, eps, max_iter):\n",
    "    pass\n",
    "```\n",
    "\n",
    "`X` è un vettore di `d` righe per `n` colonne. La funzione ritorna il vettore dei coefficienti `a` di dimensione $d\\times 1$ e lo scalare `a0`, il termine noto.\n"
   ]
  },
  {
   "cell_type": "code",
   "execution_count": 15,
   "id": "cba9cb0e",
   "metadata": {},
   "outputs": [],
   "source": [
    "def logistic_dg( X, y, step, eps, max_iter, eta=0):\n",
    "    curr_a = np.zeros( (X.shape[0], 1) )\n",
    "    curr_a0 = 0\n",
    "    \n",
    "    for t in range(max_iter):\n",
    "        curr_grad, curr_grad0 = logistic_der(X, y, curr_a, curr_a0, eta=eta)\n",
    "        \n",
    "        next_a  = curr_a - step*curr_grad\n",
    "        next_a0 = curr_a0 - step*curr_grad0\n",
    "        \n",
    "        if abs( log_loss(X, y, next_a, next_a0, eta=eta) -\\\n",
    "               log_loss(X, y, curr_a, curr_a0, eta=eta) ) < eps:\n",
    "            curr_a, curr_a0 = next_a, next_a0\n",
    "            break\n",
    "        \n",
    "        curr_a, curr_a0 = next_a, next_a0\n",
    "    print('iter:', t)\n",
    "    return curr_a, curr_a0"
   ]
  },
  {
   "cell_type": "code",
   "execution_count": 68,
   "id": "8f04f9e8",
   "metadata": {},
   "outputs": [
    {
     "name": "stdout",
     "output_type": "stream",
     "text": [
      "iter: 17009\n",
      "[[ 1.11375385]\n",
      " [-2.01457733]] 2.6222478769974673\n",
      "iter: 31837\n",
      "[[ 1.72396714]\n",
      " [-3.31346025]] 3.8630595346908057\n"
     ]
    },
    {
     "data": {
      "image/png": "[encoded data removed]",
      "text/plain": [
       "<Figure size 640x480 with 1 Axes>"
      ]
     },
     "metadata": {},
     "output_type": "display_data"
    }
   ],
   "source": [
    "import numpy as np\n",
    "import matplotlib.pyplot as plt\n",
    "import math as m\n",
    "\n",
    "X = [ (3, 2), (-1, 4), (-2, 1), (1,-2), (-3,-1) ]\n",
    "y = [1,0,0,1,1]\n",
    "\n",
    "X = np.array(X).T\n",
    "\n",
    "plt.scatter(X[0], X[1], c=['g' if e == 1 else 'r' for e in y])\n",
    "\n",
    "for eta,color in ((0,'b'), (0.01,'g')): # proviamo con due diversi valori di eta\n",
    "    a, a0 = logistic_dg(X, y, step=0.001, eps=0.00001, max_iter=100000,eta=eta)\n",
    "\n",
    "    ax = plt.gca()\n",
    "    xlim_left, xlim_right = ax.get_xlim()\n",
    "    ylim_bottom, ylim_top = ax.get_ylim()\n",
    "\n",
    "    plt.plot( ( xlim_left, xlim_right) , [ (-x*a[0][0]-a0)/a[1][0] for x in  (xlim_left, xlim_right) ],\\\n",
    "                 linewidth=1, c = color, zorder=0 )\n",
    "\n",
    "    print(a, a0)"
   ]
  }
 ],
 "metadata": {
  "kernelspec": {
   "display_name": "Python 3 (ipykernel)",
   "language": "python",
   "name": "python3"
  },
  "language_info": {
   "codemirror_mode": {
    "name": "ipython",
    "version": 3
   },
   "file_extension": ".py",
   "mimetype": "text/x-python",
   "name": "python",
   "nbconvert_exporter": "python",
   "pygments_lexer": "ipython3",
   "version": "3.10.12"
  }
 },
 "nbformat": 4,
 "nbformat_minor": 5
}
