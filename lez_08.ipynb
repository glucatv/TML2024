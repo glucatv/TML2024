{
 "cells": [
  {
   "cell_type": "markdown",
   "id": "687a51c7",
   "metadata": {},
   "source": [
    "# Esercitazione 2\n",
    "\n",
    "## Esercizio 1\n",
    "\n",
    "Implementare la funzione logistica e la funzione *log loss*\n",
    "\n",
    "![logistic_loglos](logistic_loglos.png)\n",
    "\n",
    "\n",
    "```python\n",
    "def logistic(z):\n",
    "    pass\n",
    "```\n",
    "\n",
    "```python\n",
    "def log_loss(X, y, a, a0):\n",
    "    pass\n",
    "```\n",
    "\n",
    "`X` è un vettore $(d\\times n)$ dove $d$ è il numero di features e $n$ il numero di esempi; `y` è un vettore con $n$ etichette in $\\{0,1\\}$;  `a` è il vettore dei coefficienti in $(d\\times 1)$; `a0` è il temine noto quindi uno scalare.\n",
    "\n",
    "Usare la libreria `math` per le funzioni logaritmiche ed il numero di Nepero"
   ]
  },
  {
   "cell_type": "code",
   "execution_count": 8,
   "id": "1570ae5a-6774-404a-b80c-3a07eb02bfc7",
   "metadata": {},
   "outputs": [
    {
     "name": "stdout",
     "output_type": "stream",
     "text": [
      "2.718281828459045\n",
      "1.0\n",
      "1.0\n"
     ]
    }
   ],
   "source": [
    "import numpy as np\n",
    "import math as m\n",
    "\n",
    "print(m.e)\n",
    "print(m.log10(10))\n",
    "\n",
    "\n",
    "def logistic(z):\n",
    "    return 1/( 1+m.e**(-z) )\n",
    "\n",
    "print(logistic(100000000))\n",
    "#print( m.log10(1-logistic(100000000) ) ) # ATTENZIONE\n",
    "\n",
    "def log_loss(X, y, a, a0, c=0):\n",
    "    ll_sum = 0\n",
    "    for i in range(X.shape[1]):\n",
    "        x = X[:,i:i+1]\n",
    "        g = logistic(a.T.dot(x)[0][0]+a0)\n",
    "        ll_sum += y[i]*m.log10(g) + (1-y[i])*m.log10(1-g)\n",
    "    return -(ll_sum  + c*(a**2).sum() )"
   ]
  },
  {
   "cell_type": "code",
   "execution_count": 20,
   "id": "f37bad54-1ef1-4d14-a298-8b024856aa1f",
   "metadata": {},
   "outputs": [
    {
     "name": "stdout",
     "output_type": "stream",
     "text": [
      "[[3]\n",
      " [2]\n",
      " [1]] \n",
      "********\n",
      " [[ 2]\n",
      " [ 6]\n",
      " [10]]\n",
      "***********\n",
      "30\n"
     ]
    }
   ],
   "source": [
    "X = np.array([0,1,2,3,4,5,6,7,8,9, 10, 11]).reshape(3, 4)\n",
    "\n",
    "x = X[:,2:3]\n",
    "\n",
    "a = np.array([3,2,1]).reshape(3,1)\n",
    "\n",
    "print(a, '\\n********\\n', x)\n",
    "\n",
    "print('***********')\n",
    "print(a.T.dot(x)[0][0] +2)"
   ]
  },
  {
   "cell_type": "markdown",
   "id": "6a3117df",
   "metadata": {},
   "source": [
    "## Esercizio 2\n",
    "\n",
    "Implementare la seguente funzione che ritorna il gradiente numerico della `log_loss` su un punto `a,a0`\n",
    "\n",
    "```python\n",
    "def logistic_der(X, y, a, a0, delta=0.001):\n",
    "    pass\n",
    "```\n",
    "I parametri `X`, `y`, `a` e `a0` hanno le stesse catatteristiche dell'esercizio precedente. Ritorna una coppia `g`, `g0` dove `g` è un vettore dalla dimensione di `a` e contiene le derivate paziali sui coefficienti calcolati in `a` mentre `g0` è da derivata di `log_los` rispetto al termine noto calcolata in `a0`."
   ]
  },
  {
   "cell_type": "markdown",
   "id": "cbbc6c3a",
   "metadata": {},
   "source": []
  },
  {
   "cell_type": "markdown",
   "id": "8b59f65c",
   "metadata": {},
   "source": []
  },
  {
   "cell_type": "markdown",
   "id": "c464b132",
   "metadata": {},
   "source": []
  }
 ],
 "metadata": {
  "kernelspec": {
   "display_name": "Python 3 (ipykernel)",
   "language": "python",
   "name": "python3"
  },
  "language_info": {
   "codemirror_mode": {
    "name": "ipython",
    "version": 3
   },
   "file_extension": ".py",
   "mimetype": "text/x-python",
   "name": "python",
   "nbconvert_exporter": "python",
   "pygments_lexer": "ipython3",
   "version": "3.11.5"
  }
 },
 "nbformat": 4,
 "nbformat_minor": 5
}
